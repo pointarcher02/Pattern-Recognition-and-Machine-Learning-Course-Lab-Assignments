{
  "nbformat": 4,
  "nbformat_minor": 0,
  "metadata": {
    "colab": {
      "provenance": []
    },
    "kernelspec": {
      "name": "python3",
      "display_name": "Python 3"
    },
    "language_info": {
      "name": "python"
    }
  },
  "cells": [
    {
      "cell_type": "markdown",
      "source": [
        "**QUESTION 01**"
      ],
      "metadata": {
        "id": "lOxHlXT490Cg"
      }
    },
    {
      "cell_type": "markdown",
      "source": [
        "(a) Convert file data to list"
      ],
      "metadata": {
        "id": "egA5xP13GdzR"
      }
    },
    {
      "cell_type": "code",
      "source": [
        "s=open('shashank.txt','r')\n",
        "lines=s.readlines()\n",
        "print(lines)"
      ],
      "metadata": {
        "colab": {
          "base_uri": "https://localhost:8080/"
        },
        "id": "foQtf4rZ94L4",
        "outputId": "d3bdd69d-e595-4b4f-c891-73933f24f0c5"
      },
      "execution_count": null,
      "outputs": [
        {
          "output_type": "stream",
          "name": "stdout",
          "text": [
            "['hello this is shashank asthana.\\n', 'This is my demo file for the program.\\n', 'I hope it runs on the pc.\\n', 'otherwise i will be disappointed.']\n"
          ]
        }
      ]
    },
    {
      "cell_type": "markdown",
      "source": [
        "(b) Convert User Input to a Number"
      ],
      "metadata": {
        "id": "FxLlYy08ED05"
      }
    },
    {
      "cell_type": "code",
      "source": [
        "s=int(input())\n",
        "print(s)\n",
        "print(type(s))"
      ],
      "metadata": {
        "colab": {
          "base_uri": "https://localhost:8080/"
        },
        "id": "7jFrRixNEEzp",
        "outputId": "f3d22fa0-ec99-4a81-a548-bd7e33b50964"
      },
      "execution_count": null,
      "outputs": [
        {
          "output_type": "stream",
          "name": "stdout",
          "text": [
            "10\n",
            "10\n",
            "<class 'int'>\n"
          ]
        }
      ]
    },
    {
      "cell_type": "markdown",
      "source": [
        "(c) Convert String to Datetime in Python"
      ],
      "metadata": {
        "id": "HKP5wGLlOLTa"
      }
    },
    {
      "cell_type": "code",
      "source": [
        "date=\"2022-01-10 16:48:20\"\n",
        "date_tuple=tuple([int(x) for x in date[:10].split('-')])+tuple([int(x) for x in date[11:].split(':')])\n",
        "print(date_tuple)"
      ],
      "metadata": {
        "colab": {
          "base_uri": "https://localhost:8080/"
        },
        "id": "Vj8Y6kfDOMOr",
        "outputId": "d9927a6f-588a-4a35-df84-75c96af79056"
      },
      "execution_count": null,
      "outputs": [
        {
          "output_type": "stream",
          "name": "stdout",
          "text": [
            "(2022, 1, 10, 16, 48, 20)\n"
          ]
        }
      ]
    },
    {
      "cell_type": "markdown",
      "source": [
        "(d) How to call external commands in Python?"
      ],
      "metadata": {
        "id": "Ntu9pGUgNUY7"
      }
    },
    {
      "cell_type": "code",
      "source": [
        "import os\n",
        "os.system(\"dir *.txt\")"
      ],
      "metadata": {
        "colab": {
          "base_uri": "https://localhost:8080/"
        },
        "id": "yD16R9nxNWZz",
        "outputId": "037a28d6-157d-4205-8428-55a1f02312be"
      },
      "execution_count": null,
      "outputs": [
        {
          "output_type": "execute_result",
          "data": {
            "text/plain": [
              "0"
            ]
          },
          "metadata": {},
          "execution_count": 31
        }
      ]
    },
    {
      "cell_type": "markdown",
      "source": [
        "(e)  How to count the occurrences of a list item?"
      ],
      "metadata": {
        "id": "pzLtXdPVAM9p"
      }
    },
    {
      "cell_type": "code",
      "source": [
        "l=[1,2,3,4,5,6,7]\n",
        "#a stands for the item which you want to count the occurance\n",
        "a=int(input())\n",
        "print(l.count(a))\n"
      ],
      "metadata": {
        "colab": {
          "base_uri": "https://localhost:8080/"
        },
        "id": "Akyx665PAOVI",
        "outputId": "3c1c7b6f-49ac-440d-f956-d79cf4f9d633"
      },
      "execution_count": null,
      "outputs": [
        {
          "output_type": "stream",
          "name": "stdout",
          "text": [
            "2\n",
            "0\n"
          ]
        }
      ]
    },
    {
      "cell_type": "markdown",
      "source": [
        "(f) How to flatten lists in Python?"
      ],
      "metadata": {
        "id": "_lQNyDv7EObJ"
      }
    },
    {
      "cell_type": "code",
      "source": [
        "import numpy as np\n",
        "lis=np.array([[1,2,3],[4,5,6]])\n",
        "a=lis.ravel()\n",
        "print(a)"
      ],
      "metadata": {
        "colab": {
          "base_uri": "https://localhost:8080/"
        },
        "id": "kP4fP1XpEPgZ",
        "outputId": "0e9e3ef2-e45a-4f19-e325-bdc634224baf"
      },
      "execution_count": null,
      "outputs": [
        {
          "output_type": "stream",
          "name": "stdout",
          "text": [
            "[1 2 3 4 5 6]\n"
          ]
        }
      ]
    },
    {
      "cell_type": "markdown",
      "source": [
        "(g) How to merge dictionaries in Python?\n"
      ],
      "metadata": {
        "id": "eJ2aYrulOlRr"
      }
    },
    {
      "cell_type": "code",
      "source": [
        "dict1={'svs':'ai' , 'shashank':'cse','soham':'mt'}\n",
        "dict2={'hello':'bye','hi':'hey'}\n",
        "dict1.update(dict2)\n",
        "print(dict1)"
      ],
      "metadata": {
        "colab": {
          "base_uri": "https://localhost:8080/"
        },
        "id": "7vMDsjJSOmST",
        "outputId": "30c2dad4-a70b-4c2e-d1b9-9259d37711e5"
      },
      "execution_count": null,
      "outputs": [
        {
          "output_type": "stream",
          "name": "stdout",
          "text": [
            "{'svs': 'ai', 'shashank': 'cse', 'soham': 'mt', 'hello': 'bye', 'hi': 'hey'}\n"
          ]
        }
      ]
    },
    {
      "cell_type": "markdown",
      "source": [
        "(h) Remove duplicate items from a list in Python?"
      ],
      "metadata": {
        "id": "OAFcJVh7Ez3B"
      }
    },
    {
      "cell_type": "code",
      "source": [
        "lis=[1,2,3,1,3,2,4,5]\n",
        "a=[]\n",
        "for i in range(len(lis)):\n",
        "  if(lis[i] not in a):\n",
        "    a.append(lis[i])\n",
        "  else:\n",
        "    pass\n",
        "\n",
        "print(a)"
      ],
      "metadata": {
        "colab": {
          "base_uri": "https://localhost:8080/"
        },
        "id": "YbIdUMgBE0lK",
        "outputId": "9dc375ad-0fb4-4b69-e4f8-0cfab459aa73"
      },
      "execution_count": null,
      "outputs": [
        {
          "output_type": "stream",
          "name": "stdout",
          "text": [
            "[1, 2, 3, 4, 5]\n"
          ]
        }
      ]
    },
    {
      "cell_type": "markdown",
      "source": [
        "(i) Write a Python script to check whether a given key already exists in a dictionary."
      ],
      "metadata": {
        "id": "j4VF2kuaP2ad"
      }
    },
    {
      "cell_type": "code",
      "source": [
        "dict1={'svs':'ai' , 'shashank':'cse','soham':'mt'}\n",
        "lis=dict1.keys()\n",
        "x=input()\n",
        "if x in lis:\n",
        "  print(\"key exists\")\n",
        "else:\n",
        "  print(\"key not found\")\n",
        "\n",
        "\n",
        "\n",
        "\n"
      ],
      "metadata": {
        "id": "_sQgGpGvP3PD",
        "colab": {
          "base_uri": "https://localhost:8080/"
        },
        "outputId": "8f195121-7a1a-4cec-e4af-07d1adc5a405"
      },
      "execution_count": null,
      "outputs": [
        {
          "output_type": "stream",
          "name": "stdout",
          "text": [
            "shashank\n",
            "key exists\n"
          ]
        }
      ]
    },
    {
      "cell_type": "markdown",
      "source": [
        "**QUESTION 02**"
      ],
      "metadata": {
        "id": "JxsArlS9GZip"
      }
    },
    {
      "cell_type": "markdown",
      "source": [
        "Using numpy create two matrices of same size of your choice, fill the non-zero values into these two matrices. Now perform following:"
      ],
      "metadata": {
        "id": "278gEC9q-dIK"
      }
    },
    {
      "cell_type": "markdown",
      "source": [
        "(a) Display first row of first matrix\n",
        "(b) Display second column of second matrix\n",
        "(c) Perform matrix multiplication\n",
        "(d) Perform element-wise multiplication\n",
        "(e) Perform dot product between each column of first matrix and each column of second matrix\n"
      ],
      "metadata": {
        "id": "DCALQS_S-eO4"
      }
    },
    {
      "cell_type": "code",
      "source": [
        "import numpy as np\n",
        "lis1=np.array([[1,2,3],[4,5,6],[7,8,9]])\n",
        "lis2=np.array([[10,11,12],[13,14,15],[16,17,18]])\n",
        "print(lis1[0])\n",
        "print(lis2[ :,1])\n",
        "print(np.dot(lis1,lis2))\n",
        "print(np.multiply(lis1,lis2))\n",
        "print(np.dot(lis1[:,1],lis2[:,1]))"
      ],
      "metadata": {
        "colab": {
          "base_uri": "https://localhost:8080/"
        },
        "id": "1x8MopD_Gb96",
        "outputId": "142b6ced-be05-463c-dbfa-762c8bb8dd2a"
      },
      "execution_count": null,
      "outputs": [
        {
          "output_type": "stream",
          "name": "stdout",
          "text": [
            "[1 2 3]\n",
            "[11 14 17]\n",
            "[[ 84  90  96]\n",
            " [201 216 231]\n",
            " [318 342 366]]\n",
            "[[ 10  22  36]\n",
            " [ 52  70  90]\n",
            " [112 136 162]]\n",
            "228\n"
          ]
        }
      ]
    },
    {
      "cell_type": "markdown",
      "source": [
        "**QUESTION 03**"
      ],
      "metadata": {
        "id": "-2S3gQWaX0tK"
      }
    },
    {
      "cell_type": "markdown",
      "source": [
        "A csv file has been provided to you at this link. The given dataset is related to cars and contains 26 columns.In the given dataset, “Price” is the target variable (i.e., the output).\n",
        "\n",
        "The marks distribution according to the tasks are as follows:\n",
        "i) Assign a type to each of the following features (a) Model, (b)Type, (c) Max. Price and (d)Airbags from the following: ordinal/nominal/ratio/interval scale.\n",
        "\n",
        "ii) Write a function to handle the missing values in the dataset (e.g., any NA, NaN values).\n",
        "\n",
        "iii) Write a function to reduce noise (any error in the feature) in individual attributes\n",
        "\n",
        "iv) Write a function to encode all the categorical features in the dataset according to the type of variable jointly.\n",
        "\n",
        "v) Write a function to normalize / scale the features either individually or jointly.\n",
        "\n",
        "vi) Write a function to create a random split of the data into train, validation and test sets in the ratio of [70:20:10]."
      ],
      "metadata": {
        "id": "X1vv0n-aX4Ag"
      }
    },
    {
      "cell_type": "code",
      "source": [
        "import pandas as pd\n",
        "import numpy as np\n",
        "\n",
        "# (i) (a) Model :- nominal\n",
        "#     (b) Type:- ordinal\n",
        "#     (c) Max.Price:- ratio\n",
        "#     (d) Airbags:- ordinal\n",
        "\n",
        "# (ii)\n",
        "\n",
        "df=pd.read_csv(\"Cars93.csv\")\n",
        "df1=df.fillna(0)\n",
        "print(df1.isnull().sum())\n",
        "\n",
        "# (iii)\n",
        "\n",
        "#here we will drop the row in cylinders in which rotary is mentioned\n",
        "\n",
        "def reduce_noise(data , column):\n",
        "    for i in range(data.shape[0]):\n",
        "      try:\n",
        "        data[column][i] = int(data[column][i])\n",
        "      except:\n",
        "        data = data.drop(i)\n",
        "        i=i-1\n",
        "    return data\n",
        "\n",
        "col = \"Cylinders\"\n",
        "df1 = reduce_noise(df1,col)\n",
        "df1 = df1.reset_index(drop=True)\n",
        "print(df1[col].to_string())\n",
        "\n",
        "#(iv)\n",
        "\n",
        "# we should note here that encoders require their input to be uniformly string or numbers\n",
        "\n",
        "def encoder(feature,data):\n",
        "  from sklearn.preprocessing import LabelEncoder\n",
        "  lab_enc= LabelEncoder()\n",
        "  for i in feature:\n",
        "    data[i]=lab_enc.fit_transform(data[i])\n",
        "  return data\n",
        "\n",
        "cat_features = ['Manufacturer' , 'Type', 'AirBags', 'DriveTrain', 'Cylinders', 'Man.trans.avail', 'Passengers', 'Origin']\n",
        "df1 = encoder(cat_features,df1)\n",
        "print(df1[cat_features])\n",
        "\n",
        "#(v)\n",
        "\n",
        "# here we are required to perform standardization/normalization\n",
        "# the formula we can use is (x-mean)/std deviation\n",
        "\n",
        "\n",
        "def normalize_feature(list_columns):\n",
        "  for i in list_columns:\n",
        "    df1[i]=((df1[i]-df1[i].mean())/df1[i].std())\n",
        "  return df1\n",
        "\n",
        "\n",
        "list_features = ['Min.Price', 'Price', 'Max.Price', 'MPG.city', 'MPG.highway', 'EngineSize', 'Horsepower', 'RPM', 'Rev.per.mile', 'Fuel.tank.capacity', 'Length', 'Wheelbase', 'Width', 'Turn.circle', 'Rear.seat.room', 'Luggage.room', 'Weight']\n",
        "df1 = normalize_feature(list_features)\n",
        "print(df1[list_features])\n",
        "\n",
        "# (vi)\n",
        "\n",
        "# here we need to split the data in the ratio of [70:20:10]\n",
        "\n",
        "from sklearn.model_selection import train_test_split\n",
        "\n",
        "# creating X and Y numpy arrays to pass into tts\n",
        "X=df1.iloc[:,:-1]\n",
        "Y=df1.iloc[:,-1]\n",
        "\n",
        "x_train, x_test, y_train, y_test = train_test_split(X,Y,test_size=0.30)\n",
        "x_test, x_vali, y_test, y_vali = train_test_split(x_test,y_test,test_size = 0.67)\n",
        "\n",
        "print(\"Dataframe length : \", len(df1))\n",
        "print(\"Training set length : \", len(x_train))\n",
        "print(\"Validation set length : \", len(x_vali))\n",
        "print(\"Test set length\", len(x_test))\n"
      ],
      "metadata": {
        "colab": {
          "base_uri": "https://localhost:8080/"
        },
        "id": "tgO3X2rmzb54",
        "outputId": "c2f0f9e8-8a18-4eb0-96ac-fa7dc5f95139"
      },
      "execution_count": null,
      "outputs": [
        {
          "output_type": "stream",
          "name": "stdout",
          "text": [
            "Manufacturer          0\n",
            "Model                 0\n",
            "Type                  0\n",
            "Min.Price             0\n",
            "Price                 0\n",
            "Max.Price             0\n",
            "MPG.city              0\n",
            "MPG.highway           0\n",
            "AirBags               0\n",
            "DriveTrain            0\n",
            "Cylinders             0\n",
            "EngineSize            0\n",
            "Horsepower            0\n",
            "RPM                   0\n",
            "Rev.per.mile          0\n",
            "Man.trans.avail       0\n",
            "Fuel.tank.capacity    0\n",
            "Passengers            0\n",
            "Length                0\n",
            "Wheelbase             0\n",
            "Width                 0\n",
            "Turn.circle           0\n",
            "Rear.seat.room        0\n",
            "Luggage.room          0\n",
            "Weight                0\n",
            "Origin                0\n",
            "dtype: int64\n",
            "0     4\n",
            "1     6\n",
            "2     6\n",
            "3     6\n",
            "4     4\n",
            "5     4\n",
            "6     6\n",
            "7     6\n",
            "8     6\n",
            "9     8\n",
            "10    8\n",
            "11    4\n",
            "12    4\n",
            "13    6\n",
            "14    4\n",
            "15    6\n",
            "16    6\n",
            "17    8\n",
            "18    8\n",
            "19    6\n",
            "20    4\n",
            "21    6\n",
            "22    4\n",
            "23    4\n",
            "24    4\n",
            "25    6\n",
            "26    4\n",
            "27    6\n",
            "28    4\n",
            "29    6\n",
            "30    4\n",
            "31    4\n",
            "32    4\n",
            "33    4\n",
            "34    4\n",
            "35    6\n",
            "36    6\n",
            "37    8\n",
            "38    3\n",
            "39    4\n",
            "40    4\n",
            "41    4\n",
            "42    4\n",
            "43    4\n",
            "44    4\n",
            "45    4\n",
            "46    4\n",
            "47    8\n",
            "48    6\n",
            "49    6\n",
            "50    6\n",
            "51    8\n",
            "52    4\n",
            "53    4\n",
            "54    4\n",
            "55    6\n",
            "56    4\n",
            "57    6\n",
            "58    4\n",
            "59    6\n",
            "60    4\n",
            "61    6\n",
            "62    4\n",
            "63    4\n",
            "64    6\n",
            "65    6\n",
            "66    4\n",
            "67    4\n",
            "68    6\n",
            "69    6\n",
            "70    4\n",
            "71    4\n",
            "72    4\n",
            "73    6\n",
            "74    6\n",
            "75    6\n",
            "76    4\n",
            "77    4\n",
            "78    3\n",
            "79    4\n",
            "80    4\n",
            "81    3\n",
            "82    4\n",
            "83    4\n",
            "84    4\n",
            "85    4\n",
            "86    4\n",
            "87    5\n",
            "88    4\n",
            "89    6\n",
            "90    4\n",
            "91    5\n",
            "    Manufacturer  Type  AirBags  DriveTrain  Cylinders  Man.trans.avail  \\\n",
            "0              0     3        2           1          1                1   \n",
            "1              0     2        0           1          3                1   \n",
            "2              1     0        1           1          3                1   \n",
            "3              1     2        0           1          3                1   \n",
            "4              2     2        1           2          1                1   \n",
            "..           ...   ...      ...         ...        ...              ...   \n",
            "87            30     5        2           1          2                1   \n",
            "88            30     0        2           1          1                1   \n",
            "89            30     4        2           1          3                1   \n",
            "90            31     0        1           2          1                1   \n",
            "91            31     2        0           1          2                1   \n",
            "\n",
            "    Passengers  Origin  \n",
            "0            2       1  \n",
            "1            2       1  \n",
            "2            2       1  \n",
            "3            3       1  \n",
            "4            1       1  \n",
            "..         ...     ...  \n",
            "87           4       1  \n",
            "88           2       1  \n",
            "89           1       1  \n",
            "90           2       1  \n",
            "91           2       1  \n",
            "\n",
            "[92 rows x 8 columns]\n",
            "    Min.Price     Price  Max.Price  MPG.city  MPG.highway  EngineSize  \\\n",
            "0   -0.469573 -0.360722  -0.270398  0.458196     0.349869   -0.854382   \n",
            "1    1.416264  1.511280   1.533041 -0.786860    -0.772966    0.500845   \n",
            "2    1.034469  1.012080   0.953041 -0.431130    -0.585827    0.113637   \n",
            "3    1.601377  1.906481   2.067729 -0.608995    -0.585827    0.113637   \n",
            "4    0.779939  1.105680   1.306479 -0.075399     0.162730    0.791250   \n",
            "..        ...       ...        ...       ...          ...         ...   \n",
            "87  -0.041499  0.034478   0.083040 -0.964725    -1.521523   -0.176769   \n",
            "88   0.074196  0.065678   0.055853 -0.253265     0.162730   -0.660778   \n",
            "89   0.687382  0.408879   0.173665 -0.786860    -0.772966    0.113637   \n",
            "90   0.560117  0.346479   0.155540 -0.253265    -0.211549   -0.370372   \n",
            "91   0.907204  0.762479   0.608666 -0.431130    -0.211549   -0.273571   \n",
            "\n",
            "    Horsepower       RPM  Rev.per.mile  Fuel.tank.capacity    Length  \\\n",
            "0    -0.051023  1.761901      1.117163           -1.045665 -0.435352   \n",
            "1     1.117627  0.396891      0.005443            0.418399  0.797029   \n",
            "2     0.572257  0.396891     -0.104727            0.082884 -0.229955   \n",
            "3     0.572257  0.396891      0.406063            1.363940  0.660098   \n",
            "4     1.273447  0.738144      0.426094            1.363940  0.180839   \n",
            "..         ...       ...           ...                 ...       ...   \n",
            "87   -0.654825 -1.309371      1.167240            1.363940  0.249304   \n",
            "88   -0.167888  0.908770      0.706528            0.570905 -0.229955   \n",
            "89    0.689122  0.908770      0.105598            0.570905 -1.667733   \n",
            "90   -0.557437  0.226265     -0.234929           -0.252631  0.454701   \n",
            "91    0.494347  1.591275     -0.044634            0.814916  0.043907   \n",
            "\n",
            "    Wheelbase     Width  Turn.circle  Rear.seat.room  Luggage.room    Weight  \n",
            "0   -0.298663 -0.363321    -0.611640       -0.247280     -0.266170 -0.623847  \n",
            "1    1.611500  0.426259    -0.302459        0.595305      0.505094  0.818381  \n",
            "2   -0.298663 -0.626515    -0.611640        0.113827      0.312278  0.506320  \n",
            "3    0.289080  0.163066    -0.611640        0.836043      0.890726  0.556925  \n",
            "4    0.729886 -0.100128     0.006721       -0.126911      0.119462  0.953327  \n",
            "..        ...       ...          ...             ...           ...       ...  \n",
            "87   1.611500  0.689452    -0.302459        1.558259     -2.387145  1.493108  \n",
            "88  -0.151727 -0.626515    -1.230001        0.956413      0.312278 -0.151539  \n",
            "89  -1.033340 -0.889708    -0.920820       -0.367650      0.505094 -0.446732  \n",
            "90  -0.004791 -0.626515    -0.611640        0.474935      0.312278 -0.151539  \n",
            "91   0.142144 -0.100128    -0.302459        0.595305      0.505094  0.287034  \n",
            "\n",
            "[92 rows x 17 columns]\n",
            "Dataframe length :  92\n",
            "Training set length :  64\n",
            "Validation set length :  19\n",
            "Test set length 9\n"
          ]
        },
        {
          "output_type": "stream",
          "name": "stderr",
          "text": [
            "<ipython-input-6-bb71e72fa83e>:22: SettingWithCopyWarning: \n",
            "A value is trying to be set on a copy of a slice from a DataFrame\n",
            "\n",
            "See the caveats in the documentation: https://pandas.pydata.org/pandas-docs/stable/user_guide/indexing.html#returning-a-view-versus-a-copy\n",
            "  data[column][i] = int(data[column][i])\n"
          ]
        }
      ]
    },
    {
      "cell_type": "markdown",
      "source": [
        "**QUESTION 04**"
      ],
      "metadata": {
        "id": "52hA1zs38PT9"
      }
    },
    {
      "cell_type": "markdown",
      "source": [
        "Plot following functions:"
      ],
      "metadata": {
        "id": "z0mDvqhh-qfI"
      }
    },
    {
      "cell_type": "markdown",
      "source": [
        "(a) y = 5x + 4 where x ranges from [-10, 10].\n",
        "\n"
      ],
      "metadata": {
        "id": "5GsZNa6h-uP4"
      }
    },
    {
      "cell_type": "code",
      "source": [
        "import matplotlib.pyplot as plt\n",
        "import numpy as np\n",
        "\n",
        "x=np.linspace(-10,10,60)\n",
        "y=5*x + 4\n",
        "\n",
        "plt.plot(x,y)\n",
        "plt.show()\n",
        "\n",
        "\n",
        "\n"
      ],
      "metadata": {
        "colab": {
          "base_uri": "https://localhost:8080/",
          "height": 265
        },
        "id": "QHIRFng08R3R",
        "outputId": "2e31dcd0-7ded-43c9-dfc8-c0c19b05fc76"
      },
      "execution_count": null,
      "outputs": [
        {
          "output_type": "display_data",
          "data": {
            "text/plain": [
              "<Figure size 432x288 with 1 Axes>"
            ],
            "image/png": "[encoded data removed]"
          },
          "metadata": {
            "needs_background": "light"
          }
        }
      ]
    },
    {
      "cell_type": "markdown",
      "source": [
        "(b) y = ln(x) where x > 10 and x < 100."
      ],
      "metadata": {
        "id": "QTH71XZrBCS0"
      }
    },
    {
      "cell_type": "code",
      "source": [
        "import matplotlib.pyplot as plt\n",
        "import numpy as np\n",
        "\n",
        "\n",
        "x=np.linspace(10,100,70)\n",
        "x=np.delete(x,0)\n",
        "x=np.delete(x,68)\n",
        "\n",
        "\n",
        "y=np.log(x)\n",
        "\n",
        "plt.plot(x,y)\n",
        "plt.show()"
      ],
      "metadata": {
        "colab": {
          "base_uri": "https://localhost:8080/",
          "height": 265
        },
        "id": "bV1I4dvMBJ3n",
        "outputId": "4e4a2fa4-5756-4751-e7d1-66cec3927f9e"
      },
      "execution_count": null,
      "outputs": [
        {
          "output_type": "display_data",
          "data": {
            "text/plain": [
              "<Figure size 432x288 with 1 Axes>"
            ],
            "image/png": "[encoded data removed]"
          },
          "metadata": {
            "needs_background": "light"
          }
        }
      ]
    },
    {
      "cell_type": "markdown",
      "source": [
        "(c) y = x^2 where x ranges from [-10, 10]."
      ],
      "metadata": {
        "id": "-1Cv5RqYDnVQ"
      }
    },
    {
      "cell_type": "code",
      "source": [
        "import matplotlib.pyplot as plt\n",
        "import numpy as np\n",
        "\n",
        "\n",
        "x=np.linspace(-10,10,60)\n",
        "y=x**2\n",
        "\n",
        "plt.plot(x,y)\n",
        "plt.show()"
      ],
      "metadata": {
        "colab": {
          "base_uri": "https://localhost:8080/",
          "height": 265
        },
        "id": "rF_Pv0vnDuNG",
        "outputId": "729cadca-8df1-4f6a-d2f8-05557cef9687"
      },
      "execution_count": null,
      "outputs": [
        {
          "output_type": "display_data",
          "data": {
            "text/plain": [
              "<Figure size 432x288 with 1 Axes>"
            ],
            "image/png": "[encoded data removed]"
          },
          "metadata": {
            "needs_background": "light"
          }
        }
      ]
    },
    {
      "cell_type": "markdown",
      "source": [
        "**QUESTION 05**"
      ],
      "metadata": {
        "id": "gbVi2BddIGoT"
      }
    },
    {
      "cell_type": "markdown",
      "source": [
        "(Evaluation Matrix): download colab file and dataset from given link. (15 Marks) Some task we already performed on given data in same colab file, Now your task is to perform following operation from inbuilt and scratch:\n",
        "1. Average Accuracy and Class-Wise Accuracy\n",
        "2. Precision\n",
        "3. Recall\n",
        "4. F1-Score\n",
        "5. Sensitivity\n",
        "6. Specificity\n"
      ],
      "metadata": {
        "id": "vt3Ud9uQXllR"
      }
    },
    {
      "cell_type": "code",
      "source": [
        "from scipy.special import boxcox1p\n",
        "import pandas as pd\n",
        "import numpy as np\n",
        "from sklearn.model_selection import train_test_split as tts\n",
        "from sklearn.linear_model import LogisticRegression as LR\n",
        "from sklearn.tree import DecisionTreeClassifier as DTC\n",
        "from sklearn.metrics import confusion_matrix as cm\n",
        "from sklearn.metrics import precision_score as ps\n",
        "from sklearn.metrics import recall_score as rs\n",
        "from sklearn.metrics import f1_score as f1s\n",
        "from sklearn.metrics import accuracy_score as acc\n",
        "\n",
        "from warnings import simplefilter\n",
        "from sklearn.exceptions import ConvergenceWarning\n",
        "simplefilter(\"ignore\", category=ConvergenceWarning)\n",
        "\n",
        "\n",
        "data = pd.read_csv(\"data.csv\")\n",
        "\n",
        "change_M = data.diagnosis == \"M\"\n",
        "change_B = data.diagnosis == \"B\"\n",
        "\n",
        "data.loc[change_M,\"diagnosis\"]=0\n",
        "data.loc[change_B,\"diagnosis\"]=1\n",
        "\n",
        "\n",
        "Y = data.diagnosis.to_numpy().astype('int')\n",
        "\n",
        "X_data = data.drop(columns=[\"id\",\"diagnosis\",\"Unnamed: 32\"])\n",
        "X = X_data.to_numpy()\n",
        "\n",
        "\n",
        "#dividing the data intro training and test data\n",
        "\n",
        "\n",
        "\n",
        "x_train,x_test,y_train,y_test = tts(X,Y,test_size=0.3,shuffle=False)\n",
        "\n",
        "\n",
        "#now we are fitting the data in the model and predicting for the test data\n",
        "\n",
        "logistic_model = LR()\n",
        "logistic_model.fit(x_train,y_train)\n",
        "logistic_pred = logistic_model.predict(x_test)\n",
        "\n",
        "decision_model = DTC()\n",
        "decision_model.fit(x_train,y_train)\n",
        "decision_pred = decision_model.predict(x_test)\n",
        "\n",
        "\n",
        "\n",
        "#1. Now we will calculate the average accuracy using the inbuilt library\n",
        "\n",
        "inbuilt_acc_logistic = acc(y_test,logistic_pred)\n",
        "inbuilt_acc_decision = acc(y_test,decision_pred)\n",
        "\n",
        "print(\"Accuracy for Logistic Regression-based Predictions =>\",str(inbuilt_acc_logistic*100)+\"%\")\n",
        "print(\"Accuracy for Decision Tree-based Predictions =>\",str(inbuilt_acc_decision*100)+\"%\")\n",
        "\n",
        "#Now we calculate the average accuracy using scratch\n",
        "\n",
        "def accuracy_rate(testing,predicted):\n",
        "  count=0\n",
        "  for i in range(len(testing)):\n",
        "    if testing[i] == predicted[i]:\n",
        "      count += 1\n",
        "  return count / float(len(testing)) * 100.0\n",
        "\n",
        "print(\"Accuracy for Logistic Regression-based Predictions =>\", str(accuracy_rate(y_test,logistic_pred)) + \"%\")\n",
        "print(\"Accuracy for Decision Tree-based Predictions =>\", str(accuracy_rate(y_test,decision_pred)) + \"%\")\n",
        "print()\n",
        "\n",
        "#2. Now we will calculate the precision using inbuilt library\n",
        "\n",
        "inbuilt_ps_logistic = ps(y_test,logistic_pred)\n",
        "inbuilt_ps_decision = ps(y_test,decision_pred)\n",
        "\n",
        "print(\"Precision for Logistic Regression-based Predictions =>\",str(inbuilt_ps_logistic*100)+\"%\")\n",
        "print(\"Precision for Decision Tree-based Predictions =>\",str(inbuilt_ps_decision*100)+\"%\")\n",
        "\n",
        "\n",
        "# Now we will calculate precision using scratch\n",
        "def precision(test,pred):\n",
        "  tp_count=0\n",
        "  fp_count=0\n",
        "  for i in range(len(test)):\n",
        "    if test[i]==1 and pred[i]==1:\n",
        "      tp_count+=1\n",
        "    elif (test[i]==0 and pred[i]==1):\n",
        "      fp_count+=1\n",
        "\n",
        "  return (tp_count/(tp_count+fp_count))*100\n",
        "\n",
        "print(\"Precision for Logistic Regression-based Predictions =>\",str(precision(y_test,logistic_pred))+\"%\")\n",
        "print(\"Precision for Decision Tree-based Predictions =>\",str(precision(y_test,decision_pred))+\"%\")\n",
        "\n",
        "print()\n",
        "\n",
        "#3. Now we will calculate the recall using inbuilt library\n",
        "\n",
        "inbuilt_rs_logistic = rs(y_test,logistic_pred)\n",
        "inbuilt_rs_decision = rs(y_test,decision_pred)\n",
        "\n",
        "print(\"Recall for Logistic Regression-based Predictions =>\",str(inbuilt_rs_logistic*100)+\"%\")\n",
        "print(\"Recall for Decision Tree-based Predictions =>\",str(inbuilt_rs_decision*100)+\"%\")\n",
        "\n",
        "#Now we will calculate recall from scratch\n",
        "\n",
        "def recall(test,pred):\n",
        "  tp_count=0\n",
        "  fn_count=0\n",
        "  for i in range(len(test)):\n",
        "    if test[i]==1 and pred[i]==1:\n",
        "      tp_count+=1\n",
        "    elif test[i]==1 and pred[i]==0:\n",
        "      fn_count+=1\n",
        "  return (tp_count/(tp_count + fn_count))*100\n",
        "\n",
        "print(\"Recall for Logistic Regression-based Predictions =>\",str(recall(y_test,logistic_pred))+\"%\")\n",
        "print(\"Recall for Decision Tree-based Predictions =>\",str(recall(y_test,decision_pred))+\"%\")\n",
        "\n",
        "print()\n",
        "\n",
        "# 4. Now we will calculate F1 score using inbuilt library\n",
        "\n",
        "inbuilt_f1s_logistic = f1s(y_test,logistic_pred)\n",
        "inbuilt_f1s_decision = f1s(y_test,decision_pred)\n",
        "\n",
        "print(\"F1-Score for Logistic Regression-based Predictions =>\",str(inbuilt_f1s_logistic*100)+\"%\")\n",
        "print(\"F1-Score for Decision Tree-based Predictions =>\",str(inbuilt_f1s_decision*100)+\"%\")\n",
        "\n",
        "# Now we will calculate F1 Score from scratch\n",
        "\n",
        "a1=precision(y_test,logistic_pred)\n",
        "b1=precision(y_test,decision_pred)\n",
        "\n",
        "a2=recall(y_test,logistic_pred)\n",
        "b2=recall(y_test,decision_pred)\n",
        "\n",
        "print(\"F1 Score for logistic regression model is =>\", str(2/((1/a1)+(1/a2))) + \"%\")\n",
        "print(\"F1 Score for decision tree based prediction model is =>\", str(2/((1/b1)+(1/b2))) + \"%\")\n",
        "\n",
        "print()\n",
        "\n",
        "# 5. Now we will calculate Senstivity from scratch\n",
        "\n",
        "def senstivity(test,pred):\n",
        "  tp_count=0\n",
        "  fn_count=0\n",
        "  for i in range(len(test)):\n",
        "    if test[i]==1 and pred[i]==1:\n",
        "      tp_count+=1\n",
        "    elif test[i]==1 and pred[i]==0:\n",
        "      fn_count+=1\n",
        "  return (tp_count/(tp_count + fn_count))*100\n",
        "\n",
        "\n",
        "print(\"The senstivity value for logistic regression is =>\" , str(senstivity(y_test,logistic_pred)) + \"%\")\n",
        "print(\"The senstivity value for decision tree based prediction model is =>\" , str(senstivity(y_test,decision_pred)) + \"%\")\n",
        "\n",
        "print()\n",
        "\n",
        "# 6. Now we will calculate Specificity from scratch\n",
        "\n",
        "def specificity(test,pred):\n",
        "  tn_count=0\n",
        "  fp_count=0\n",
        "  for i in range(len(test)):\n",
        "    if(test[i]==0 and pred[i]==0):\n",
        "      tn_count+=1\n",
        "    elif(test[i]==0 and pred[i]==1):\n",
        "      fp_count+=1\n",
        "  return (tn_count/(tn_count + fp_count))*100\n",
        "\n",
        "\n",
        "print(\"The specificity value for logistic regression is =>\" , str(specificity(y_test,logistic_pred)) + \"%\")\n",
        "print(\"The specificity value for decision tree based prediction model is =>\" , str(specificity(y_test,decision_pred)) + \"%\")\n",
        "\n",
        "\n"
      ],
      "metadata": {
        "colab": {
          "base_uri": "https://localhost:8080/"
        },
        "id": "D2lE-NgRI5TM",
        "outputId": "ff1ff729-8f69-40cf-8a10-c0f25f999995"
      },
      "execution_count": null,
      "outputs": [
        {
          "output_type": "stream",
          "name": "stdout",
          "text": [
            "Accuracy for Logistic Regression-based Predictions => 92.98245614035088%\n",
            "Accuracy for Decision Tree-based Predictions => 87.71929824561403%\n",
            "Accuracy for Logistic Regression-based Predictions => 92.98245614035088%\n",
            "Accuracy for Decision Tree-based Predictions => 87.71929824561403%\n",
            "\n",
            "Precision for Logistic Regression-based Predictions => 99.18032786885246%\n",
            "Precision for Decision Tree-based Predictions => 100.0%\n",
            "Precision for Logistic Regression-based Predictions => 99.18032786885246%\n",
            "Precision for Decision Tree-based Predictions => 100.0%\n",
            "\n",
            "Recall for Logistic Regression-based Predictions => 91.66666666666666%\n",
            "Recall for Decision Tree-based Predictions => 84.0909090909091%\n",
            "Recall for Logistic Regression-based Predictions => 91.66666666666666%\n",
            "Recall for Decision Tree-based Predictions => 84.0909090909091%\n",
            "\n",
            "F1-Score for Logistic Regression-based Predictions => 95.2755905511811%\n",
            "F1-Score for Decision Tree-based Predictions => 91.35802469135803%\n",
            "F1 Score for logistic regression model is => 95.27559055118111%\n",
            "F1 Score for decision tree based prediction model is => 91.35802469135803%\n",
            "\n",
            "The senstivity value for logistic regression is => 91.66666666666666%\n",
            "The senstivity value for decision tree based prediction model is => 84.0909090909091%\n",
            "\n",
            "The specificity value for logistic regression is => 97.43589743589743%\n",
            "The specificity value for decision tree based prediction model is => 100.0%\n"
          ]
        }
      ]
    }
  ]
}